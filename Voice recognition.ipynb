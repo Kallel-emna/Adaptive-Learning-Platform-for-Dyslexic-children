{
 "cells": [
  {
   "cell_type": "code",
   "execution_count": 3,
   "metadata": {},
   "outputs": [
    {
     "name": "stdout",
     "output_type": "stream",
     "text": [
      "Collecting SpeechRecognition\n",
      "  Downloading SpeechRecognition-3.10.3-py2.py3-none-any.whl (32.8 MB)\n",
      "     -------------------------------------- 32.8/32.8 MB 957.8 kB/s eta 0:00:00\n",
      "Requirement already satisfied: requests>=2.26.0 in c:\\users\\kalle\\anaconda3\\lib\\site-packages (from SpeechRecognition) (2.28.1)\n",
      "Requirement already satisfied: typing-extensions in c:\\users\\kalle\\anaconda3\\lib\\site-packages (from SpeechRecognition) (4.9.0)\n",
      "Requirement already satisfied: certifi>=2017.4.17 in c:\\users\\kalle\\anaconda3\\lib\\site-packages (from requests>=2.26.0->SpeechRecognition) (2022.9.14)\n",
      "Requirement already satisfied: idna<4,>=2.5 in c:\\users\\kalle\\anaconda3\\lib\\site-packages (from requests>=2.26.0->SpeechRecognition) (2.10)\n",
      "Requirement already satisfied: charset-normalizer<3,>=2 in c:\\users\\kalle\\anaconda3\\lib\\site-packages (from requests>=2.26.0->SpeechRecognition) (2.0.4)\n",
      "Requirement already satisfied: urllib3<1.27,>=1.21.1 in c:\\users\\kalle\\anaconda3\\lib\\site-packages (from requests>=2.26.0->SpeechRecognition) (1.26.11)\n",
      "Installing collected packages: SpeechRecognition\n",
      "Successfully installed SpeechRecognition-3.10.3\n",
      "Note: you may need to restart the kernel to use updated packages.\n"
     ]
    },
    {
     "name": "stderr",
     "output_type": "stream",
     "text": [
      "WARNING: Ignoring invalid distribution -rotobuf (c:\\users\\kalle\\anaconda3\\lib\\site-packages)\n",
      "WARNING: Ignoring invalid distribution -rotobuf (c:\\users\\kalle\\anaconda3\\lib\\site-packages)\n",
      "WARNING: Ignoring invalid distribution -rotobuf (c:\\users\\kalle\\anaconda3\\lib\\site-packages)\n",
      "WARNING: Ignoring invalid distribution -rotobuf (c:\\users\\kalle\\anaconda3\\lib\\site-packages)\n",
      "WARNING: Ignoring invalid distribution -rotobuf (c:\\users\\kalle\\anaconda3\\lib\\site-packages)\n",
      "WARNING: Ignoring invalid distribution -rotobuf (c:\\users\\kalle\\anaconda3\\lib\\site-packages)\n",
      "WARNING: Ignoring invalid distribution -rotobuf (c:\\users\\kalle\\anaconda3\\lib\\site-packages)\n"
     ]
    }
   ],
   "source": [
    "pip install SpeechRecognition"
   ]
  },
  {
   "cell_type": "code",
   "execution_count": 4,
   "metadata": {},
   "outputs": [
    {
     "name": "stdout",
     "output_type": "stream",
     "text": [
      "Collecting pyttsx3\n",
      "  Downloading pyttsx3-2.90-py3-none-any.whl (39 kB)\n",
      "Collecting pypiwin32\n",
      "  Downloading pypiwin32-223-py3-none-any.whl (1.7 kB)\n",
      "Requirement already satisfied: pywin32 in c:\\users\\kalle\\anaconda3\\lib\\site-packages (from pyttsx3) (302)\n",
      "Requirement already satisfied: comtypes in c:\\users\\kalle\\anaconda3\\lib\\site-packages (from pyttsx3) (1.1.10)\n",
      "Installing collected packages: pypiwin32, pyttsx3\n",
      "Successfully installed pypiwin32-223 pyttsx3-2.90\n",
      "Note: you may need to restart the kernel to use updated packages.\n"
     ]
    },
    {
     "name": "stderr",
     "output_type": "stream",
     "text": [
      "WARNING: Ignoring invalid distribution -rotobuf (c:\\users\\kalle\\anaconda3\\lib\\site-packages)\n",
      "WARNING: Ignoring invalid distribution -rotobuf (c:\\users\\kalle\\anaconda3\\lib\\site-packages)\n",
      "WARNING: Ignoring invalid distribution -rotobuf (c:\\users\\kalle\\anaconda3\\lib\\site-packages)\n",
      "WARNING: Ignoring invalid distribution -rotobuf (c:\\users\\kalle\\anaconda3\\lib\\site-packages)\n",
      "WARNING: Ignoring invalid distribution -rotobuf (c:\\users\\kalle\\anaconda3\\lib\\site-packages)\n",
      "WARNING: Ignoring invalid distribution -rotobuf (c:\\users\\kalle\\anaconda3\\lib\\site-packages)\n",
      "WARNING: Ignoring invalid distribution -rotobuf (c:\\users\\kalle\\anaconda3\\lib\\site-packages)\n",
      "WARNING: Ignoring invalid distribution -rotobuf (c:\\users\\kalle\\anaconda3\\lib\\site-packages)\n"
     ]
    }
   ],
   "source": [
    "pip install pyttsx3"
   ]
  },
  {
   "cell_type": "code",
   "execution_count": 6,
   "metadata": {},
   "outputs": [
    {
     "name": "stdout",
     "output_type": "stream",
     "text": [
      "Collecting pyaudio\n",
      "  Downloading PyAudio-0.2.14-cp39-cp39-win_amd64.whl (164 kB)\n",
      "     ------------------------------------ 164.1/164.1 kB 172.8 kB/s eta 0:00:00\n",
      "Installing collected packages: pyaudio\n",
      "Successfully installed pyaudio-0.2.14\n",
      "Note: you may need to restart the kernel to use updated packages.\n"
     ]
    },
    {
     "name": "stderr",
     "output_type": "stream",
     "text": [
      "WARNING: Ignoring invalid distribution -rotobuf (c:\\users\\kalle\\anaconda3\\lib\\site-packages)\n",
      "WARNING: Ignoring invalid distribution -rotobuf (c:\\users\\kalle\\anaconda3\\lib\\site-packages)\n",
      "WARNING: Ignoring invalid distribution -rotobuf (c:\\users\\kalle\\anaconda3\\lib\\site-packages)\n",
      "WARNING: Ignoring invalid distribution -rotobuf (c:\\users\\kalle\\anaconda3\\lib\\site-packages)\n",
      "WARNING: Ignoring invalid distribution -rotobuf (c:\\users\\kalle\\anaconda3\\lib\\site-packages)\n",
      "WARNING: Ignoring invalid distribution -rotobuf (c:\\users\\kalle\\anaconda3\\lib\\site-packages)\n",
      "WARNING: Ignoring invalid distribution -rotobuf (c:\\users\\kalle\\anaconda3\\lib\\site-packages)\n"
     ]
    }
   ],
   "source": [
    "pip install pyaudio\n"
   ]
  },
  {
   "cell_type": "markdown",
   "metadata": {},
   "source": [
    "## English"
   ]
  },
  {
   "cell_type": "code",
   "execution_count": 2,
   "metadata": {},
   "outputs": [
    {
     "name": "stdout",
     "output_type": "stream",
     "text": [
      "Recording started...\n",
      "Recording stopped.\n"
     ]
    },
    {
     "name": "stdout",
     "output_type": "stream",
     "text": [
      "text: good morning my name is Emma and now I'm studying at the University\n",
      "text: good morning my name is Emma and now I'm studying at the University\n"
     ]
    }
   ],
   "source": [
    "import speech_recognition as sr\n",
    "import pyttsx3 \n",
    "import threading\n",
    "import time\n",
    "\n",
    "# Initialize the recognizer \n",
    "r = sr.Recognizer() \n",
    "\n",
    "# Variable to control recording\n",
    "is_recording = False\n",
    " \n",
    "def record_text():\n",
    "    global is_recording\n",
    "    while True:\n",
    "        try:\n",
    "            if is_recording:\n",
    "                # use the microphone as source for input.\n",
    "                with sr.Microphone() as source2:\n",
    "                    r.adjust_for_ambient_noise(source2, duration=0.2)\n",
    "\n",
    "                    #listens for the user's input \n",
    "                    audio2 = r.listen(source2)\n",
    "\n",
    "                    # Using google to recognize audio\n",
    "                    MyText = r.recognize_google(audio2)\n",
    "                    return MyText\n",
    "\n",
    "        except sr.RequestError as e:\n",
    "            print(\"Could not request results; {0}\".format(e))\n",
    "         \n",
    "        except sr.UnknownValueError:\n",
    "            print(\"unknown error occurred\")\n",
    "    return\n",
    "\n",
    "\n",
    "def output_text(text):\n",
    "    f = open(\"output.txt\", \"a\")\n",
    "    f.write(text)\n",
    "    f.write(\"\\n\")\n",
    "    f.close()\n",
    "    return\n",
    "\n",
    "def start_stop_recording():\n",
    "    global is_recording\n",
    "    is_recording = not is_recording\n",
    "    if is_recording:\n",
    "        print(\"Recording started...\")\n",
    "    else:\n",
    "        print(\"Recording stopped.\")\n",
    "\n",
    "# Function to run in a separate thread for recording\n",
    "def record_thread():\n",
    "    while True:\n",
    "        text = record_text()\n",
    "        output_text(text)\n",
    "        print(\"text:\", text)\n",
    "\n",
    "# Create a thread for recording\n",
    "record_thread = threading.Thread(target=record_thread, daemon=True)\n",
    "record_thread.start()\n",
    "\n",
    "# Main loop to control recording with a button\n",
    "while True:\n",
    "    user_input = input(\"Press 's' to start/stop recording, or 'q' to quit: \")\n",
    "    if user_input.lower() == 's':\n",
    "        start_stop_recording()\n",
    "    elif user_input.lower() == 'q':\n",
    "        break"
   ]
  },
  {
   "cell_type": "markdown",
   "metadata": {},
   "source": [
    "## French"
   ]
  },
  {
   "cell_type": "code",
   "execution_count": 1,
   "metadata": {},
   "outputs": [
    {
     "name": "stdout",
     "output_type": "stream",
     "text": [
      "Recording started...\n",
      "Recording stopped.\n"
     ]
    },
    {
     "name": "stdout",
     "output_type": "stream",
     "text": [
      "French: bonjour je suis Emna et je suis maintenant à l'université\n"
     ]
    }
   ],
   "source": [
    "import speech_recognition as sr\n",
    "import threading\n",
    "\n",
    "# Initialize the recognizer \n",
    "r = sr.Recognizer() \n",
    "\n",
    "# Variable to control recording\n",
    "is_recording = False\n",
    " \n",
    "def record_text():\n",
    "    global is_recording\n",
    "    while True:\n",
    "        try:\n",
    "            if is_recording:\n",
    "                # use the microphone as source for input.\n",
    "                with sr.Microphone() as source2:\n",
    "                    r.adjust_for_ambient_noise(source2, duration=0.2)\n",
    "\n",
    "                    # listens for the user's input \n",
    "                    audio2 = r.listen(source2)\n",
    "\n",
    "                    # Using Google to recognize audio in French\n",
    "                    MyText_fr = r.recognize_google(audio2, language=\"fr-FR\")  # French\n",
    "\n",
    "                    return MyText_fr\n",
    "\n",
    "        except sr.RequestError as e:\n",
    "            print(\"Could not request results; {0}\".format(e))\n",
    "         \n",
    "        except sr.UnknownValueError:\n",
    "            print(\"Unknown error occurred\")\n",
    "    return\n",
    "\n",
    "\n",
    "def output_text(text):\n",
    "    with open(\"output.txt\", \"a\") as f:\n",
    "        f.write(text)\n",
    "        f.write(\"\\n\")\n",
    "\n",
    "def start_stop_recording():\n",
    "    global is_recording\n",
    "    is_recording = not is_recording\n",
    "    if is_recording:\n",
    "        print(\"Recording started...\")\n",
    "    else:\n",
    "        print(\"Recording stopped.\")\n",
    "\n",
    "# Function to run in a separate thread for recording\n",
    "def record_thread():\n",
    "    while True:\n",
    "        text_fr = record_text()\n",
    "        output_text(\"French: \" + text_fr)\n",
    "        print(\"French:\", text_fr)\n",
    "\n",
    "# Create a thread for recording\n",
    "record_thread = threading.Thread(target=record_thread, daemon=True)\n",
    "record_thread.start()\n",
    "\n",
    "# Main loop to control recording with a button\n",
    "while True:\n",
    "    user_input = input(\"Press 's' to start/stop recording, or 'q' to quit: \")\n",
    "    if user_input.lower() == 's':\n",
    "        start_stop_recording()\n",
    "    elif user_input.lower() == 'q':\n",
    "        break"
   ]
  },
  {
   "cell_type": "code",
   "execution_count": 1,
   "metadata": {},
   "outputs": [
    {
     "name": "stdout",
     "output_type": "stream",
     "text": [
      "Recording started...\n",
      "Recording stopped.\n"
     ]
    },
    {
     "name": "stdout",
     "output_type": "stream",
     "text": [
      "Arabic: مرحبا ربيع فوق المدرسه ربيب تحت الطاوله\n"
     ]
    }
   ],
   "source": [
    "import speech_recognition as sr\n",
    "import threading\n",
    "\n",
    "# Initialize the recognizer \n",
    "r = sr.Recognizer() \n",
    "\n",
    "# Variable to control recording\n",
    "is_recording = False\n",
    " \n",
    "def record_text():\n",
    "    global is_recording\n",
    "    while True:\n",
    "        try:\n",
    "            if is_recording:\n",
    "                # use the microphone as source for input.\n",
    "                with sr.Microphone() as source2:\n",
    "                    r.adjust_for_ambient_noise(source2, duration=0.2)\n",
    "\n",
    "                    # listens for the user's input \n",
    "                    audio2 = r.listen(source2)\n",
    "\n",
    "                    # Using Google to recognize audio in Arabic\n",
    "                    MyText_ar = r.recognize_google(audio2, language=\"ar-SA\")  # Arabic\n",
    "\n",
    "                    return MyText_ar\n",
    "\n",
    "        except sr.RequestError as e:\n",
    "            print(\"Could not request results; {0}\".format(e))\n",
    "         \n",
    "        except sr.UnknownValueError:\n",
    "            print(\"Unknown error occurred\")\n",
    "    return\n",
    "\n",
    "\n",
    "def output_text(text):\n",
    "    with open(\"output.txt\", \"a\") as f:\n",
    "        f.write(text)\n",
    "        f.write(\"\\n\")\n",
    "\n",
    "def start_stop_recording():\n",
    "    global is_recording\n",
    "    is_recording = not is_recording\n",
    "    if is_recording:\n",
    "        print(\"Recording started...\")\n",
    "    else:\n",
    "        print(\"Recording stopped.\")\n",
    "\n",
    "# Function to run in a separate thread for recording\n",
    "def record_thread():\n",
    "    while True:\n",
    "        text_ar = record_text()\n",
    "        output_text(\"Arabic: \" + text_ar)\n",
    "        print(\"Arabic:\", text_ar)\n",
    "\n",
    "# Create a thread for recording\n",
    "record_thread = threading.Thread(target=record_thread, daemon=True)\n",
    "record_thread.start()\n",
    "\n",
    "# Main loop to control recording with a button\n",
    "while True:\n",
    "    user_input = input(\"Press 's' to start/stop recording, or 'q' to quit: \")\n",
    "    if user_input.lower() == 's':\n",
    "        start_stop_recording()\n",
    "    elif user_input.lower() == 'q':\n",
    "        break\n",
    "    \n",
    "    \n",
    "    \n",
    "    \n",
    "    \n",
    "    "
   ]
  },
  {
   "cell_type": "code",
   "execution_count": null,
   "metadata": {},
   "outputs": [],
   "source": []
  }
 ],
 "metadata": {
  "kernelspec": {
   "display_name": "base",
   "language": "python",
   "name": "python3"
  },
  "language_info": {
   "codemirror_mode": {
    "name": "ipython",
    "version": 3
   },
   "file_extension": ".py",
   "mimetype": "text/x-python",
   "name": "python",
   "nbconvert_exporter": "python",
   "pygments_lexer": "ipython3",
   "version": "3.9.13"
  }
 },
 "nbformat": 4,
 "nbformat_minor": 2
}
